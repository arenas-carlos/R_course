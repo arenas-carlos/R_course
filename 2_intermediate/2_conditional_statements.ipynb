{
 "cells": [
  {
   "cell_type": "markdown",
   "metadata": {},
   "source": [
    "<h1>R notes Intermediate course.</h1><h2 style=\"color: blue;\">Conditional statements.</h2><h3 style=\"color: green;\">if statement</h3>"
   ]
  },
  {
   "cell_type": "markdown",
   "metadata": {},
   "source": [
    "<pre>\n",
    "if(condition) {\n",
    "    expr\n",
    "}\n",
    "</pre>"
   ]
  },
  {
   "cell_type": "code",
   "execution_count": 39,
   "metadata": {},
   "outputs": [
    {
     "name": "stdout",
     "output_type": "stream",
     "text": [
      "[1] \"output...\"\n",
      "[1] \"\"\n",
      "[1] \"x is negative number\"\n"
     ]
    }
   ],
   "source": [
    "print(\"output...\")\n",
    "print(\"\")\n",
    "x <- -3\n",
    "if( x < 0 ){\n",
    "    print(\"x is negative number\")\n",
    "}"
   ]
  },
  {
   "cell_type": "code",
   "execution_count": 40,
   "metadata": {},
   "outputs": [
    {
     "name": "stdout",
     "output_type": "stream",
     "text": [
      "[1] \"output...\"\n",
      "[1] \"\"\n"
     ]
    }
   ],
   "source": [
    "print(\"output...\")\n",
    "print(\"\")\n",
    "x <- 5\n",
    "if( x < 0 ){\n",
    "    print(\"x is negative number\")\n",
    "}"
   ]
  },
  {
   "cell_type": "markdown",
   "metadata": {},
   "source": [
    "<hr style=\"border: none; height: 2px; color: black; background-color: black ; padding: 0px: margin: 0px\"/>"
   ]
  },
  {
   "cell_type": "markdown",
   "metadata": {},
   "source": [
    "<h3 style=\"color: green;\">else statement</h3>\n",
    "<pre>\n",
    "if(condition) {\n",
    "    expr\n",
    "} else {\n",
    "    expr2\n",
    "}\n",
    "</pre>"
   ]
  },
  {
   "cell_type": "code",
   "execution_count": 41,
   "metadata": {},
   "outputs": [
    {
     "name": "stdout",
     "output_type": "stream",
     "text": [
      "[1] \"output...\"\n",
      "[1] \"\"\n",
      "[1] \"x is a negative number\"\n"
     ]
    }
   ],
   "source": [
    "print(\"output...\")\n",
    "print(\"\")\n",
    "x <- -3\n",
    "if( x < 0 ){\n",
    "    print(\"x is a negative number\")\n",
    "} else {\n",
    "    print(\"x is a positive number or zero\")\n",
    "}"
   ]
  },
  {
   "cell_type": "code",
   "execution_count": 42,
   "metadata": {},
   "outputs": [
    {
     "name": "stdout",
     "output_type": "stream",
     "text": [
      "[1] \"output...\"\n",
      "[1] \"\"\n",
      "[1] \"x is a positive number or zero\"\n"
     ]
    }
   ],
   "source": [
    "print(\"output...\")\n",
    "print(\"\")\n",
    "x <- 5\n",
    "if( x < 0 ){\n",
    "    print(\"x is a negative number\")\n",
    "} else {\n",
    "    print(\"x is a positive number or zero\")\n",
    "}"
   ]
  },
  {
   "cell_type": "markdown",
   "metadata": {},
   "source": [
    "<hr style=\"border: none; height: 2px; color: black; background-color: black ; padding: 0px: margin: 0px\"/>"
   ]
  },
  {
   "cell_type": "markdown",
   "metadata": {},
   "source": [
    "<h3 style=\"color: green;\">else if statement</h3>\n",
    "<pre>\n",
    "if(condition) {\n",
    "    expr\n",
    "} else if(condition2) {\n",
    "    expr2\n",
    "} else {\n",
    "    expr3\n",
    "}\n",
    "\n",
    "ps. the last else is optional\n",
    "</pre>"
   ]
  },
  {
   "cell_type": "code",
   "execution_count": 43,
   "metadata": {},
   "outputs": [
    {
     "name": "stdout",
     "output_type": "stream",
     "text": [
      "[1] \"output...\"\n",
      "[1] \"\"\n",
      "[1] \"x is a negative number\"\n"
     ]
    }
   ],
   "source": [
    "print(\"output...\")\n",
    "print(\"\")\n",
    "x <- -3\n",
    "if(x < 0) {  \n",
    "    print(\"x is a negative number\")\n",
    "} else if(x == 0) {  \n",
    "    print(\"x is zero\")\n",
    "} else {  \n",
    "    print(\"x is a positive number\")\n",
    "}"
   ]
  },
  {
   "cell_type": "code",
   "execution_count": 44,
   "metadata": {},
   "outputs": [
    {
     "name": "stdout",
     "output_type": "stream",
     "text": [
      "[1] \"output...\"\n",
      "[1] \"\"\n",
      "[1] \"x is zero\"\n"
     ]
    }
   ],
   "source": [
    "print(\"output...\")\n",
    "print(\"\")\n",
    "x <- 0\n",
    "if(x < 0) {  \n",
    "    print(\"x is a negative number\")\n",
    "} else if(x == 0) {  \n",
    "    print(\"x is zero\")\n",
    "} else {  \n",
    "    print(\"x is a positive number\")\n",
    "}"
   ]
  },
  {
   "cell_type": "code",
   "execution_count": 45,
   "metadata": {},
   "outputs": [
    {
     "name": "stdout",
     "output_type": "stream",
     "text": [
      "[1] \"output...\"\n",
      "[1] \"\"\n",
      "[1] \"x is a positive number\"\n"
     ]
    }
   ],
   "source": [
    "print(\"output...\")\n",
    "print(\"\")\n",
    "x <- 5\n",
    "if(x < 0) {  \n",
    "    print(\"x is a negative number\")\n",
    "} else if(x == 0) {  \n",
    "    print(\"x is zero\")\n",
    "} else {  \n",
    "    print(\"x is a positive number\")\n",
    "}"
   ]
  },
  {
   "cell_type": "code",
   "execution_count": 46,
   "metadata": {},
   "outputs": [
    {
     "name": "stdout",
     "output_type": "stream",
     "text": [
      "[1] \"output...\"\n",
      "[1] \"\"\n",
      "[1] \"divisible by 2\"\n"
     ]
    }
   ],
   "source": [
    "print(\"output...\")\n",
    "print(\"\")\n",
    "x <- 6\n",
    "\n",
    "# the operator %% returns the module of a division\n",
    "\n",
    "if(x %% 2 == 0) {  \n",
    "    print(\"divisible by 2\")\n",
    "} else if(x %% 3 == 0) {  \n",
    "    print(\"divisible by 3\")\n",
    "} else {  \n",
    "    print(\"not divisible by 2 nor by 3...\")\n",
    "}\n"
   ]
  }
 ],
 "metadata": {
  "kernelspec": {
   "display_name": "R",
   "language": "R",
   "name": "ir"
  },
  "language_info": {
   "codemirror_mode": "r",
   "file_extension": ".r",
   "mimetype": "text/x-r-source",
   "name": "R",
   "pygments_lexer": "r",
   "version": "3.6.1"
  }
 },
 "nbformat": 4,
 "nbformat_minor": 4
}
