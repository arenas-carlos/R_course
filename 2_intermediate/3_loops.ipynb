{
 "cells": [
  {
   "cell_type": "markdown",
   "metadata": {},
   "source": [
    "<h1>R notes Intermediate course.</h1><h2 style=\"color: blue;\">Loops.</h2><h3 style=\"color: green;\">while loop</h3>\n",
    "<pre>\n",
    "<span style=\"color: blue;\">while</span>(<span style=\"color: red;\">condition</span>) [\n",
    "    expr\n",
    "}\n",
    "</pre>"
   ]
  },
  {
   "cell_type": "code",
   "execution_count": 30,
   "metadata": {},
   "outputs": [
    {
     "name": "stdout",
     "output_type": "stream",
     "text": [
      "[1] \"output...\"\n",
      "[1] \"\"\n",
      "[1] \"ctr is set to 1\"\n",
      "[1] \"ctr is set to 2\"\n",
      "[1] \"ctr is set to 3\"\n",
      "[1] \"ctr is set to 4\"\n",
      "[1] \"ctr is set to 5\"\n",
      "[1] \"ctr is set to 6\"\n"
     ]
    }
   ],
   "source": [
    "print(\"output...\")\n",
    "print(\"\")\n",
    "ctr <- 1\n",
    "while(ctr < 7) {  \n",
    "    print(paste(\"ctr is set to\", ctr))  \n",
    "    ctr <- ctr + 1\n",
    "}\n"
   ]
  },
  {
   "cell_type": "code",
   "execution_count": 31,
   "metadata": {},
   "outputs": [
    {
     "name": "stdout",
     "output_type": "stream",
     "text": [
      "[1] \"output...\"\n",
      "[1] \"\"\n"
     ]
    },
    {
     "data": {
      "text/html": [
       "7"
      ],
      "text/latex": [
       "7"
      ],
      "text/markdown": [
       "7"
      ],
      "text/plain": [
       "[1] 7"
      ]
     },
     "metadata": {},
     "output_type": "display_data"
    }
   ],
   "source": [
    "print(\"output...\")\n",
    "print(\"\")\n",
    "ctr"
   ]
  },
  {
   "cell_type": "markdown",
   "metadata": {},
   "source": [
    "<span style=\"color: red;\">look that the last addtion was made for ctr, resulting on ctr = 7</span>"
   ]
  },
  {
   "cell_type": "code",
   "execution_count": 32,
   "metadata": {},
   "outputs": [
    {
     "name": "stdout",
     "output_type": "stream",
     "text": [
      "[1] \"output...\"\n",
      "[1] \"\"\n",
      "[1] \"ctr is set to 1\"\n",
      "[1] \"ctr is set to 2\"\n",
      "[1] \"ctr is set to 3\"\n",
      "[1] \"ctr is set to 4\"\n",
      "[1] \"ctr is set to 5\"\n",
      "[1] \"ctr is set to 6\"\n",
      "[1] \"ctr is set to 7\"\n"
     ]
    }
   ],
   "source": [
    "print(\"output...\")\n",
    "print(\"\")\n",
    "ctr <- 1\n",
    "while(ctr <= 7) {  \n",
    "    print(paste(\"ctr is set to\", ctr))\n",
    "    ctr <- ctr + 1\n",
    "}"
   ]
  },
  {
   "cell_type": "code",
   "execution_count": 33,
   "metadata": {},
   "outputs": [
    {
     "name": "stdout",
     "output_type": "stream",
     "text": [
      "[1] \"output...\"\n",
      "[1] \"\"\n"
     ]
    },
    {
     "data": {
      "text/html": [
       "8"
      ],
      "text/latex": [
       "8"
      ],
      "text/markdown": [
       "8"
      ],
      "text/plain": [
       "[1] 8"
      ]
     },
     "metadata": {},
     "output_type": "display_data"
    }
   ],
   "source": [
    "print(\"output...\")\n",
    "print(\"\")\n",
    "ctr"
   ]
  },
  {
   "cell_type": "markdown",
   "metadata": {},
   "source": [
    "<span style=\"color: red;\">look that the last addtion wasn't made for ctr, resulting on ctr = 7</span>"
   ]
  },
  {
   "cell_type": "markdown",
   "metadata": {},
   "source": [
    "<p>Be careful on not create infinite loops, those will never end running and you will need to manually kill the process, creating infinite loops occurs when the condition in the loop is never met. see below example</p>\n",
    "\n",
    "<pre>x = 1\n",
    "<span style=\"color: blue;\">while</span>(x = 7) {\n",
    "    print(paste(\"cter is set to \", x)\n",
    "}\n",
    "</pre>"
   ]
  },
  {
   "cell_type": "markdown",
   "metadata": {},
   "source": [
    "<h3 style=\"color: green;\">break statement</h3>\n",
    "<p>this instruction breaks the loop even if the condition wasn't met</p>"
   ]
  },
  {
   "cell_type": "code",
   "execution_count": 34,
   "metadata": {},
   "outputs": [
    {
     "name": "stdout",
     "output_type": "stream",
     "text": [
      "[1] \"output...\"\n",
      "[1] \"\"\n",
      "[1] \"ctr is set to 1\"\n",
      "[1] \"ctr is set to 2\"\n",
      "[1] \"ctr is set to 3\"\n",
      "[1] \"ctr is set to 4\"\n"
     ]
    }
   ],
   "source": [
    "print(\"output...\")\n",
    "print(\"\")\n",
    "x <- 1\n",
    "while(x <= 7) {\n",
    "    if(x %% 5 == 0) {\n",
    "        break  \n",
    "    }  \n",
    "    print(paste(\"ctr is set to\", x))  \n",
    "    x <- x + 1\n",
    "}\n"
   ]
  },
  {
   "cell_type": "markdown",
   "metadata": {},
   "source": [
    "<hr style=\"border: none; height: 2px; color: black; background-color: black ; padding: 0px: margin: 0px\"/>"
   ]
  },
  {
   "cell_type": "markdown",
   "metadata": {},
   "source": [
    "<h3 style=\"color: green;\">for loop</h3>\n",
    "<pre>\n",
    "<span style=\"color: blue;\">for</span>(<span style=\"color: red;\">var <span style=\"color: black;\">in </span>seq</span>) [\n",
    "    expr\n",
    "}\n",
    "</pre>"
   ]
  },
  {
   "cell_type": "code",
   "execution_count": 35,
   "metadata": {},
   "outputs": [
    {
     "name": "stdout",
     "output_type": "stream",
     "text": [
      "[1] \"output...\"\n",
      "[1] \"\"\n",
      "[1] \"CDMX\"\n",
      "[1] \"Guadalajara\"\n",
      "[1] \"Monterrey\"\n",
      "[1] \"Queretaro\"\n",
      "[1] \"Colima\"\n",
      "[1] \"Culiacan\"\n"
     ]
    }
   ],
   "source": [
    "print(\"output...\")\n",
    "print(\"\")\n",
    "cities <- c(\"CDMX\", \"Guadalajara\", \"Monterrey\", \"Queretaro\", \"Colima\", \"Culiacan\")\n",
    "\n",
    "# this loop will go through all items int he vector and assign the value on city variable\n",
    "\n",
    "for(city in cities) {\n",
    "    print(city)\n",
    "}"
   ]
  },
  {
   "cell_type": "code",
   "execution_count": 36,
   "metadata": {},
   "outputs": [
    {
     "name": "stdout",
     "output_type": "stream",
     "text": [
      "[1] \"output...\"\n",
      "[1] \"\"\n",
      "[1] \"CDMX\"\n",
      "[1] \"Guadalajara\"\n",
      "[1] \"Monterrey\"\n",
      "[1] \"Queretaro\"\n",
      "[1] \"Colima\"\n",
      "[1] \"Culiacan\"\n"
     ]
    }
   ],
   "source": [
    "print(\"output...\")\n",
    "print(\"\")\n",
    "\n",
    "# Variation of the same loop\n",
    "# this will go from number 1 to the total number of the count of the items in the vector assigning to i the next numeric number\n",
    "\n",
    "for(i in 1:length(cities)) {\n",
    "    print(cities[i])\n",
    "}"
   ]
  },
  {
   "cell_type": "markdown",
   "metadata": {},
   "source": [
    "<p style=\"color: red\">break statement in for loop</p>"
   ]
  },
  {
   "cell_type": "code",
   "execution_count": 37,
   "metadata": {},
   "outputs": [
    {
     "name": "stdout",
     "output_type": "stream",
     "text": [
      "[1] \"output...\"\n",
      "[1] \"\"\n",
      "[1] \"CDMX\"\n",
      "[1] \"Guadalajara\"\n"
     ]
    }
   ],
   "source": [
    "print(\"output...\")\n",
    "print(\"\")\n",
    "for(city in cities) {\n",
    "    if(nchar(city) == 9) {\n",
    "        break\n",
    "    }\n",
    "    print(city)\n",
    "}"
   ]
  }
 ],
 "metadata": {
  "kernelspec": {
   "display_name": "R",
   "language": "R",
   "name": "ir"
  },
  "language_info": {
   "codemirror_mode": "r",
   "file_extension": ".r",
   "mimetype": "text/x-r-source",
   "name": "R",
   "pygments_lexer": "r",
   "version": "3.6.1"
  }
 },
 "nbformat": 4,
 "nbformat_minor": 4
}
