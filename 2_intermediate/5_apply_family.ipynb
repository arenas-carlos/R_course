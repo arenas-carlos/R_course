{
 "cells": [
  {
   "cell_type": "markdown",
   "metadata": {},
   "source": [
    "<h1>R notes Intermediate course data camp.</h1><h2 style=\"color: blue;\">The apply family.</h2>\n",
    "<h3>lapply()</h3>\n",
    "<ul>\n",
    "    <li>Apply funciton over list or vector</li>\n",
    "    <li>Function can retur R objects of different classes</li>\n",
    "</ul>\n",
    "<p>lapply applies a function overa vector or list and returns a list with the results of executing all instances of the vector or list into the function</p>\n",
    "<p><span style=\"color: red;\">lapply</span>( <strong>vector_or_list</strong>, function )</p>"
   ]
  },
  {
   "cell_type": "code",
   "execution_count": 4,
   "metadata": {},
   "outputs": [
    {
     "name": "stdout",
     "output_type": "stream",
     "text": [
      "[1] \"output...\"\n",
      "[1] \".........\"\n"
     ]
    },
    {
     "data": {
      "text/html": [
       "<dl>\n",
       "\t<dt>$pop</dt>\n",
       "\t\t<dd>'numeric'</dd>\n",
       "\t<dt>$boroughs</dt>\n",
       "\t\t<dd>'character'</dd>\n",
       "\t<dt>$capital</dt>\n",
       "\t\t<dd>'logical'</dd>\n",
       "</dl>\n"
      ],
      "text/latex": [
       "\\begin{description}\n",
       "\\item[\\$pop] 'numeric'\n",
       "\\item[\\$boroughs] 'character'\n",
       "\\item[\\$capital] 'logical'\n",
       "\\end{description}\n"
      ],
      "text/markdown": [
       "$pop\n",
       ":   'numeric'\n",
       "$boroughs\n",
       ":   'character'\n",
       "$capital\n",
       ":   'logical'\n",
       "\n",
       "\n"
      ],
      "text/plain": [
       "$pop\n",
       "[1] \"numeric\"\n",
       "\n",
       "$boroughs\n",
       "[1] \"character\"\n",
       "\n",
       "$capital\n",
       "[1] \"logical\"\n"
      ]
     },
     "metadata": {},
     "output_type": "display_data"
    }
   ],
   "source": [
    "print(\"output...\")\n",
    "print(\".........\")\n",
    "\n",
    "nyc <- list(pop = 8405837, \n",
    "            boroughs = c(\"Manhattan\", \"Bronx\", \"Brooklyn\",\"Queens\", \"Staten Island\"), \n",
    "            capital = FALSE)\n",
    "\n",
    "lapply(nyc, class)"
   ]
  },
  {
   "cell_type": "code",
   "execution_count": 5,
   "metadata": {},
   "outputs": [
    {
     "name": "stdout",
     "output_type": "stream",
     "text": [
      "[1] \"output...\"\n",
      "[1] \".........\"\n"
     ]
    },
    {
     "data": {
      "text/html": [
       "<ol>\n",
       "\t<li>11</li>\n",
       "\t<li>4</li>\n",
       "\t<li>9</li>\n",
       "\t<li>9</li>\n",
       "</ol>\n"
      ],
      "text/latex": [
       "\\begin{enumerate}\n",
       "\\item 11\n",
       "\\item 4\n",
       "\\item 9\n",
       "\\item 9\n",
       "\\end{enumerate}\n"
      ],
      "text/markdown": [
       "1. 11\n",
       "2. 4\n",
       "3. 9\n",
       "4. 9\n",
       "\n",
       "\n"
      ],
      "text/plain": [
       "[[1]]\n",
       "[1] 11\n",
       "\n",
       "[[2]]\n",
       "[1] 4\n",
       "\n",
       "[[3]]\n",
       "[1] 9\n",
       "\n",
       "[[4]]\n",
       "[1] 9\n"
      ]
     },
     "metadata": {},
     "output_type": "display_data"
    }
   ],
   "source": [
    "print(\"output...\")\n",
    "print(\".........\")\n",
    "\n",
    "cities <- c(\"Guadalajara\", \"CDMX\", \"Monterrey\", \"Queretaro\")\n",
    "\n",
    "lapply(cities, nchar)"
   ]
  },
  {
   "cell_type": "markdown",
   "metadata": {},
   "source": [
    "<p style=\"color: red\">saving result on a variable to display later</p>"
   ]
  },
  {
   "cell_type": "code",
   "execution_count": 7,
   "metadata": {},
   "outputs": [
    {
     "name": "stdout",
     "output_type": "stream",
     "text": [
      "[1] \"output...\"\n",
      "[1] \".........\"\n",
      "List of 4\n",
      " $ : int 11\n",
      " $ : int 4\n",
      " $ : int 9\n",
      " $ : int 9\n"
     ]
    }
   ],
   "source": [
    "print(\"output...\")\n",
    "print(\".........\")\n",
    "\n",
    "cities <- c(\"Guadalajara\", \"CDMX\", \"Monterrey\", \"Queretaro\")\n",
    "\n",
    "char_count <- lapply(cities, nchar)\n",
    "\n",
    "str(char_count)"
   ]
  },
  {
   "cell_type": "markdown",
   "metadata": {},
   "source": [
    "<p style=\"color: red\">you can use your same functions</p>"
   ]
  },
  {
   "cell_type": "code",
   "execution_count": 10,
   "metadata": {},
   "outputs": [
    {
     "name": "stdout",
     "output_type": "stream",
     "text": [
      "[1] \"output...\"\n",
      "[1] \".........\"\n"
     ]
    },
    {
     "data": {
      "text/html": [
       "<ol>\n",
       "\t<li>3</li>\n",
       "\t<li>6</li>\n",
       "\t<li>10.2</li>\n",
       "\t<li>7.5</li>\n",
       "\t<li>30.9</li>\n",
       "</ol>\n"
      ],
      "text/latex": [
       "\\begin{enumerate}\n",
       "\\item 3\n",
       "\\item 6\n",
       "\\item 10.2\n",
       "\\item 7.5\n",
       "\\item 30.9\n",
       "\\end{enumerate}\n"
      ],
      "text/markdown": [
       "1. 3\n",
       "2. 6\n",
       "3. 10.2\n",
       "4. 7.5\n",
       "5. 30.9\n",
       "\n",
       "\n"
      ],
      "text/plain": [
       "[[1]]\n",
       "[1] 3\n",
       "\n",
       "[[2]]\n",
       "[1] 6\n",
       "\n",
       "[[3]]\n",
       "[1] 10.2\n",
       "\n",
       "[[4]]\n",
       "[1] 7.5\n",
       "\n",
       "[[5]]\n",
       "[1] 30.9\n"
      ]
     },
     "metadata": {},
     "output_type": "display_data"
    }
   ],
   "source": [
    "print(\"output...\")\n",
    "print(\".........\")\n",
    "\n",
    "price_list <- c(1,2,3.4, 2.5, 10.3)\n",
    "\n",
    "triple <- function(prices){\n",
    "    return(prices * 3)\n",
    "}\n",
    "\n",
    "lapply(price_list, triple)"
   ]
  },
  {
   "cell_type": "markdown",
   "metadata": {},
   "source": [
    "<p style=\"color: red;\">forcing lapply to return a vector</p>"
   ]
  },
  {
   "cell_type": "code",
   "execution_count": 20,
   "metadata": {},
   "outputs": [
    {
     "name": "stdout",
     "output_type": "stream",
     "text": [
      "[1] \"output...\"\n",
      "[1] \".........\"\n"
     ]
    },
    {
     "data": {
      "text/html": [
       "<ol class=list-inline>\n",
       "\t<li>3</li>\n",
       "\t<li>6</li>\n",
       "\t<li>10.2</li>\n",
       "\t<li>7.5</li>\n",
       "\t<li>30.9</li>\n",
       "</ol>\n"
      ],
      "text/latex": [
       "\\begin{enumerate*}\n",
       "\\item 3\n",
       "\\item 6\n",
       "\\item 10.2\n",
       "\\item 7.5\n",
       "\\item 30.9\n",
       "\\end{enumerate*}\n"
      ],
      "text/markdown": [
       "1. 3\n",
       "2. 6\n",
       "3. 10.2\n",
       "4. 7.5\n",
       "5. 30.9\n",
       "\n",
       "\n"
      ],
      "text/plain": [
       "[1]  3.0  6.0 10.2  7.5 30.9"
      ]
     },
     "metadata": {},
     "output_type": "display_data"
    }
   ],
   "source": [
    "print(\"output...\")\n",
    "print(\".........\")\n",
    "\n",
    "price_list <- c(1,2,3.4, 2.5, 10.3)\n",
    "\n",
    "triple <- function(prices){\n",
    "    return(prices * 3)\n",
    "}\n",
    "\n",
    "unlist(lapply(price_list, triple))"
   ]
  },
  {
   "cell_type": "markdown",
   "metadata": {},
   "source": [
    "<hr style=\"border: none; height: 2px; color: black; background-color: black ; padding: 0px: margin: 0px\"/>\n",
    "<h3>sapply()</h3>\n",
    "<p>sapply applies a function overa vector or list and returns a vector or matrix with the results of executing all instances of the vector or list into the function</p>\n",
    "<p><span style=\"color: red;\">sapply</span>( <strong>vector_or_list</strong>, function )</p>"
   ]
  },
  {
   "cell_type": "code",
   "execution_count": 12,
   "metadata": {},
   "outputs": [
    {
     "name": "stdout",
     "output_type": "stream",
     "text": [
      "[1] \"output...\"\n",
      "[1] \".........\"\n"
     ]
    },
    {
     "data": {
      "text/html": [
       "<dl class=dl-horizontal>\n",
       "\t<dt>Guadalajara</dt>\n",
       "\t\t<dd>11</dd>\n",
       "\t<dt>CDMX</dt>\n",
       "\t\t<dd>4</dd>\n",
       "\t<dt>Monterrey</dt>\n",
       "\t\t<dd>9</dd>\n",
       "\t<dt>Queretaro</dt>\n",
       "\t\t<dd>9</dd>\n",
       "</dl>\n"
      ],
      "text/latex": [
       "\\begin{description*}\n",
       "\\item[Guadalajara] 11\n",
       "\\item[CDMX] 4\n",
       "\\item[Monterrey] 9\n",
       "\\item[Queretaro] 9\n",
       "\\end{description*}\n"
      ],
      "text/markdown": [
       "Guadalajara\n",
       ":   11CDMX\n",
       ":   4Monterrey\n",
       ":   9Queretaro\n",
       ":   9\n",
       "\n"
      ],
      "text/plain": [
       "Guadalajara        CDMX   Monterrey   Queretaro \n",
       "         11           4           9           9 "
      ]
     },
     "metadata": {},
     "output_type": "display_data"
    }
   ],
   "source": [
    "print(\"output...\")\n",
    "print(\".........\")\n",
    "\n",
    "cities <- c(\"Guadalajara\", \"CDMX\", \"Monterrey\", \"Queretaro\")\n",
    "\n",
    "sapply(cities, nchar)"
   ]
  },
  {
   "cell_type": "markdown",
   "metadata": {},
   "source": [
    "<p style=\"color: red;\">saving result in a variable</p>"
   ]
  },
  {
   "cell_type": "code",
   "execution_count": 18,
   "metadata": {},
   "outputs": [
    {
     "name": "stdout",
     "output_type": "stream",
     "text": [
      "[1] \"output...\"\n",
      "[1] \".........\"\n"
     ]
    },
    {
     "data": {
      "text/html": [
       "<dl class=dl-horizontal>\n",
       "\t<dt>Guadalajara</dt>\n",
       "\t\t<dd>11</dd>\n",
       "\t<dt>CDMX</dt>\n",
       "\t\t<dd>4</dd>\n",
       "\t<dt>Monterrey</dt>\n",
       "\t\t<dd>9</dd>\n",
       "\t<dt>Queretaro</dt>\n",
       "\t\t<dd>9</dd>\n",
       "</dl>\n"
      ],
      "text/latex": [
       "\\begin{description*}\n",
       "\\item[Guadalajara] 11\n",
       "\\item[CDMX] 4\n",
       "\\item[Monterrey] 9\n",
       "\\item[Queretaro] 9\n",
       "\\end{description*}\n"
      ],
      "text/markdown": [
       "Guadalajara\n",
       ":   11CDMX\n",
       ":   4Monterrey\n",
       ":   9Queretaro\n",
       ":   9\n",
       "\n"
      ],
      "text/plain": [
       "Guadalajara        CDMX   Monterrey   Queretaro \n",
       "         11           4           9           9 "
      ]
     },
     "metadata": {},
     "output_type": "display_data"
    }
   ],
   "source": [
    "print(\"output...\")\n",
    "print(\".........\")\n",
    "\n",
    "cities <- c(\"Guadalajara\", \"CDMX\", \"Monterrey\", \"Queretaro\")\n",
    "\n",
    "char_count <- sapply(cities, nchar)\n",
    "\n",
    "char_count"
   ]
  },
  {
   "cell_type": "markdown",
   "metadata": {},
   "source": [
    "<p style=\"color: red;\">removing the names</p>"
   ]
  },
  {
   "cell_type": "code",
   "execution_count": 19,
   "metadata": {},
   "outputs": [
    {
     "name": "stdout",
     "output_type": "stream",
     "text": [
      "[1] \"output...\"\n",
      "[1] \".........\"\n"
     ]
    },
    {
     "data": {
      "text/html": [
       "<ol class=list-inline>\n",
       "\t<li>11</li>\n",
       "\t<li>4</li>\n",
       "\t<li>9</li>\n",
       "\t<li>9</li>\n",
       "</ol>\n"
      ],
      "text/latex": [
       "\\begin{enumerate*}\n",
       "\\item 11\n",
       "\\item 4\n",
       "\\item 9\n",
       "\\item 9\n",
       "\\end{enumerate*}\n"
      ],
      "text/markdown": [
       "1. 11\n",
       "2. 4\n",
       "3. 9\n",
       "4. 9\n",
       "\n",
       "\n"
      ],
      "text/plain": [
       "[1] 11  4  9  9"
      ]
     },
     "metadata": {},
     "output_type": "display_data"
    }
   ],
   "source": [
    "print(\"output...\")\n",
    "print(\".........\")\n",
    "\n",
    "cities <- c(\"Guadalajara\", \"CDMX\", \"Monterrey\", \"Queretaro\")\n",
    "\n",
    "char_count <- sapply(cities, nchar, USE.NAMES = FALSE)\n",
    "\n",
    "char_count"
   ]
  },
  {
   "cell_type": "markdown",
   "metadata": {},
   "source": [
    "<p style=\"color: red;\">returning a matrix</p>"
   ]
  },
  {
   "cell_type": "code",
   "execution_count": 23,
   "metadata": {},
   "outputs": [
    {
     "name": "stdout",
     "output_type": "stream",
     "text": [
      "[1] \"output...\"\n",
      "[1] \".........\"\n"
     ]
    },
    {
     "data": {
      "text/html": [
       "<table>\n",
       "<thead><tr><th></th><th scope=col>Guadalajara</th><th scope=col>CDMX</th><th scope=col>Monterrey</th><th scope=col>Queretaro</th></tr></thead>\n",
       "<tbody>\n",
       "\t<tr><th scope=row>first</th><td>a</td><td>C</td><td>e</td><td>a</td></tr>\n",
       "\t<tr><th scope=row>last</th><td>u</td><td>X</td><td>y</td><td>u</td></tr>\n",
       "</tbody>\n",
       "</table>\n"
      ],
      "text/latex": [
       "\\begin{tabular}{r|llll}\n",
       "  & Guadalajara & CDMX & Monterrey & Queretaro\\\\\n",
       "\\hline\n",
       "\tfirst & a & C & e & a\\\\\n",
       "\tlast & u & X & y & u\\\\\n",
       "\\end{tabular}\n"
      ],
      "text/markdown": [
       "\n",
       "| <!--/--> | Guadalajara | CDMX | Monterrey | Queretaro |\n",
       "|---|---|---|---|---|\n",
       "| first | a | C | e | a |\n",
       "| last | u | X | y | u |\n",
       "\n"
      ],
      "text/plain": [
       "      Guadalajara CDMX Monterrey Queretaro\n",
       "first a           C    e         a        \n",
       "last  u           X    y         u        "
      ]
     },
     "metadata": {},
     "output_type": "display_data"
    }
   ],
   "source": [
    "print(\"output...\")\n",
    "print(\".........\")\n",
    "\n",
    "cities <- c(\"Guadalajara\", \"CDMX\", \"Monterrey\", \"Queretaro\")\n",
    "\n",
    "first_and_last <- function(name) {  \n",
    "    name <- gsub(\" \", \"\", name)  \n",
    "    letters <- strsplit(name, split = \"\")[[1]]  \n",
    "    return(c(first = min(letters), last = max(letters)))\n",
    "}\n",
    "\n",
    "\n",
    "sapply(cities, first_and_last)"
   ]
  },
  {
   "cell_type": "markdown",
   "metadata": {},
   "source": [
    "<hr style=\"border: none; height: 2px; color: black; background-color: black ; padding: 0px: margin: 0px\"/>\n",
    "<h3>vapply()</h3>\n",
    "<p>vapply applies a function overa vector or list and returns a vector or matrix with the results of executing all instances of the vector or list into the function, the difference is that you have to explicity specify the type of value to result and the number of the expected results</p>\n",
    "<p><span style=\"color: red;\")>vapply</span>( <strong>vector_or_list</strong>, function, <span style=\"color: blue;\">numeric(<span style=\"color: red;\">2</span>)</span> )</p>"
   ]
  },
  {
   "cell_type": "code",
   "execution_count": 25,
   "metadata": {},
   "outputs": [
    {
     "name": "stdout",
     "output_type": "stream",
     "text": [
      "[1] \"output...\"\n",
      "[1] \".........\"\n"
     ]
    },
    {
     "data": {
      "text/html": [
       "<dl class=dl-horizontal>\n",
       "\t<dt>Guadalajara</dt>\n",
       "\t\t<dd>11</dd>\n",
       "\t<dt>CDMX</dt>\n",
       "\t\t<dd>4</dd>\n",
       "\t<dt>Monterrey</dt>\n",
       "\t\t<dd>9</dd>\n",
       "\t<dt>Queretaro</dt>\n",
       "\t\t<dd>9</dd>\n",
       "</dl>\n"
      ],
      "text/latex": [
       "\\begin{description*}\n",
       "\\item[Guadalajara] 11\n",
       "\\item[CDMX] 4\n",
       "\\item[Monterrey] 9\n",
       "\\item[Queretaro] 9\n",
       "\\end{description*}\n"
      ],
      "text/markdown": [
       "Guadalajara\n",
       ":   11CDMX\n",
       ":   4Monterrey\n",
       ":   9Queretaro\n",
       ":   9\n",
       "\n"
      ],
      "text/plain": [
       "Guadalajara        CDMX   Monterrey   Queretaro \n",
       "         11           4           9           9 "
      ]
     },
     "metadata": {},
     "output_type": "display_data"
    }
   ],
   "source": [
    "print(\"output...\")\n",
    "print(\".........\")\n",
    "\n",
    "cities <- c(\"Guadalajara\", \"CDMX\", \"Monterrey\", \"Queretaro\")\n",
    "\n",
    "char_count <- vapply(cities, nchar, numeric(1))\n",
    "\n",
    "char_count"
   ]
  },
  {
   "cell_type": "code",
   "execution_count": 24,
   "metadata": {},
   "outputs": [
    {
     "name": "stdout",
     "output_type": "stream",
     "text": [
      "[1] \"output...\"\n",
      "[1] \".........\"\n"
     ]
    },
    {
     "data": {
      "text/html": [
       "<table>\n",
       "<thead><tr><th></th><th scope=col>Guadalajara</th><th scope=col>CDMX</th><th scope=col>Monterrey</th><th scope=col>Queretaro</th></tr></thead>\n",
       "<tbody>\n",
       "\t<tr><th scope=row>first</th><td>a</td><td>C</td><td>e</td><td>a</td></tr>\n",
       "\t<tr><th scope=row>last</th><td>u</td><td>X</td><td>y</td><td>u</td></tr>\n",
       "</tbody>\n",
       "</table>\n"
      ],
      "text/latex": [
       "\\begin{tabular}{r|llll}\n",
       "  & Guadalajara & CDMX & Monterrey & Queretaro\\\\\n",
       "\\hline\n",
       "\tfirst & a & C & e & a\\\\\n",
       "\tlast & u & X & y & u\\\\\n",
       "\\end{tabular}\n"
      ],
      "text/markdown": [
       "\n",
       "| <!--/--> | Guadalajara | CDMX | Monterrey | Queretaro |\n",
       "|---|---|---|---|---|\n",
       "| first | a | C | e | a |\n",
       "| last | u | X | y | u |\n",
       "\n"
      ],
      "text/plain": [
       "      Guadalajara CDMX Monterrey Queretaro\n",
       "first a           C    e         a        \n",
       "last  u           X    y         u        "
      ]
     },
     "metadata": {},
     "output_type": "display_data"
    }
   ],
   "source": [
    "print(\"output...\")\n",
    "print(\".........\")\n",
    "\n",
    "cities <- c(\"Guadalajara\", \"CDMX\", \"Monterrey\", \"Queretaro\")\n",
    "\n",
    "first_and_last <- function(name) {  \n",
    "    name <- gsub(\" \", \"\", name)  \n",
    "    letters <- strsplit(name, split = \"\")[[1]]  \n",
    "    return(c(first = min(letters), last = max(letters)))\n",
    "}\n",
    "\n",
    "\n",
    "vapply(cities, first_and_last, character(2))"
   ]
  },
  {
   "cell_type": "markdown",
   "metadata": {},
   "source": [
    "<p><strong>Recap</strong></p>\n",
    "<ul>\n",
    "    <li style=\"color: green;\">lapply()\n",
    "        <ul style=\"color: black;\">\n",
    "            <li>apply function over list or vector</li>\n",
    "            <li>output = list</li>\n",
    "        </ul>\n",
    "    </li>\n",
    "    <li style=\"color: green;\">sapply()\n",
    "        <ul style=\"color: black;\">\n",
    "            <li>apply function over list or vector</li>\n",
    "            <li>try to simplify list to array</li>    \n",
    "        </ul>\n",
    "    </li>\n",
    "    <li style=\"color: green;\">vapply()\n",
    "        <ul style=\"color: black;\">\n",
    "            <li>apply function over list or vector</li>\n",
    "            <li>explicity specify output format</li>\n",
    "        </ul>\n",
    "    </li>\n",
    "</ul>"
   ]
  }
 ],
 "metadata": {
  "kernelspec": {
   "display_name": "R",
   "language": "R",
   "name": "ir"
  },
  "language_info": {
   "codemirror_mode": "r",
   "file_extension": ".r",
   "mimetype": "text/x-r-source",
   "name": "R",
   "pygments_lexer": "r",
   "version": "3.6.1"
  }
 },
 "nbformat": 4,
 "nbformat_minor": 4
}
