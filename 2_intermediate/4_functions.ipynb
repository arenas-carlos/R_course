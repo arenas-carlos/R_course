{
 "cells": [
  {
   "cell_type": "markdown",
   "metadata": {},
   "source": [
    "<h1>R notes Intermediate course data camp.</h1><h2 style=\"color: blue;\">Functions</h2>\n",
    "<pre>\n",
    "<span style=\"color: blue\">function_name </span>( <span style=\"color: red\">mandatory_values</span>, predefined_values = <span style=\"color: green\">TRUE</span> )"
   ]
  },
  {
   "cell_type": "code",
   "execution_count": 13,
   "metadata": {},
   "outputs": [
    {
     "name": "stdout",
     "output_type": "stream",
     "text": [
      "[1] \"output...\"\n",
      "[1] \".........\"\n"
     ]
    },
    {
     "data": {
      "text/html": [
       "2.62995563967658"
      ],
      "text/latex": [
       "2.62995563967658"
      ],
      "text/markdown": [
       "2.62995563967658"
      ],
      "text/plain": [
       "[1] 2.629956"
      ]
     },
     "metadata": {},
     "output_type": "display_data"
    }
   ],
   "source": [
    "print(\"output...\")\n",
    "print(\".........\")\n",
    "\n",
    "# call a function in R\n",
    "\n",
    "sd(c(1, 5, 6, 7))"
   ]
  },
  {
   "cell_type": "code",
   "execution_count": 14,
   "metadata": {},
   "outputs": [
    {
     "name": "stdout",
     "output_type": "stream",
     "text": [
      "[1] \"output...\"\n",
      "[1] \".........\"\n"
     ]
    },
    {
     "data": {
      "text/html": [
       "2.62995563967658"
      ],
      "text/latex": [
       "2.62995563967658"
      ],
      "text/markdown": [
       "2.62995563967658"
      ],
      "text/plain": [
       "[1] 2.629956"
      ]
     },
     "metadata": {},
     "output_type": "display_data"
    }
   ],
   "source": [
    "print(\"output...\")\n",
    "print(\".........\")\n",
    "\n",
    "# call a function in R\n",
    "# creating a variable to pass the value throught the function\n",
    "\n",
    "values <- c(1, 5, 6, 7)\n",
    "sd(values)"
   ]
  },
  {
   "cell_type": "code",
   "execution_count": 15,
   "metadata": {},
   "outputs": [
    {
     "name": "stdout",
     "output_type": "stream",
     "text": [
      "[1] \"output...\"\n",
      "[1] \".........\"\n"
     ]
    },
    {
     "data": {
      "text/html": [
       "2.62995563967658"
      ],
      "text/latex": [
       "2.62995563967658"
      ],
      "text/markdown": [
       "2.62995563967658"
      ],
      "text/plain": [
       "[1] 2.629956"
      ]
     },
     "metadata": {},
     "output_type": "display_data"
    }
   ],
   "source": [
    "print(\"output...\")\n",
    "print(\".........\")\n",
    "\n",
    "# call a function in R\n",
    "# value of values variable was set above and the variable keeps the value\n",
    "# assigning the value to a new variable\n",
    "\n",
    "my_sd <- sd(values)\n",
    "my_sd"
   ]
  },
  {
   "cell_type": "markdown",
   "metadata": {},
   "source": [
    "<hr style=\"border: none; height: 2px; color: black; background-color: black ; padding: 0px: margin: 0px\"/>\n",
    "<h2 style=\"color: blue;\">Function documentation</h2>"
   ]
  },
  {
   "cell_type": "code",
   "execution_count": 16,
   "metadata": {},
   "outputs": [
    {
     "name": "stdout",
     "output_type": "stream",
     "text": [
      "[1] \"output...\"\n",
      "[1] \".........\"\n"
     ]
    }
   ],
   "source": [
    "print(\"output...\")\n",
    "print(\".........\")\n",
    "\n",
    "# get the manual of the functions\n",
    "help(sd)"
   ]
  },
  {
   "cell_type": "code",
   "execution_count": 17,
   "metadata": {},
   "outputs": [
    {
     "name": "stdout",
     "output_type": "stream",
     "text": [
      "[1] \"output...\"\n",
      "[1] \".........\"\n"
     ]
    }
   ],
   "source": [
    "print(\"output...\")\n",
    "print(\".........\")\n",
    "\n",
    "# another way to get the manual of the functions\n",
    "?sd"
   ]
  },
  {
   "cell_type": "markdown",
   "metadata": {},
   "source": [
    "<hr style=\"border: none; height: 2px; color: black; background-color: black ; padding: 0px: margin: 0px\"/>\n",
    "<h2 style=\"color: blue;\">Writting functions</h2>\n",
    "<pre>\n",
    "my_fun = <span style=\"color: red;\">function</span>(arg1, arg2, arg3 = value) {\n",
    "    body\n",
    "    return() <span style=\"color: green;\"># return function tells the created function what value returns after all execution.</span>\n",
    "}\n",
    "</pre>"
   ]
  },
  {
   "cell_type": "code",
   "execution_count": 18,
   "metadata": {},
   "outputs": [
    {
     "name": "stdout",
     "output_type": "stream",
     "text": [
      "[1] \"output...\"\n",
      "[1] \".........\"\n"
     ]
    },
    {
     "data": {
      "text/html": [
       "9"
      ],
      "text/latex": [
       "9"
      ],
      "text/markdown": [
       "9"
      ],
      "text/plain": [
       "[1] 9"
      ]
     },
     "metadata": {},
     "output_type": "display_data"
    }
   ],
   "source": [
    "print(\"output...\")\n",
    "print(\".........\")\n",
    "\n",
    "x <- 3\n",
    "\n",
    "triple <- function(x){\n",
    "    return(3 * x)\n",
    "}\n",
    "\n",
    "triple(x)"
   ]
  },
  {
   "cell_type": "code",
   "execution_count": 19,
   "metadata": {},
   "outputs": [
    {
     "name": "stdout",
     "output_type": "stream",
     "text": [
      "[1] \"output...\"\n",
      "[1] \".........\"\n"
     ]
    },
    {
     "data": {
      "text/html": [
       "81"
      ],
      "text/latex": [
       "81"
      ],
      "text/markdown": [
       "81"
      ],
      "text/plain": [
       "[1] 81"
      ]
     },
     "metadata": {},
     "output_type": "display_data"
    }
   ],
   "source": [
    "print(\"output...\")\n",
    "print(\".........\")\n",
    "\n",
    "x <- 3\n",
    "\n",
    "triple_square <- function(x, square_cal = TRUE){\n",
    "    if(square_cal){\n",
    "        return((3 * x)^2)\n",
    "    } else {\n",
    "        return(3 * x)\n",
    "    }\n",
    "}\n",
    "\n",
    "triple_square(x)"
   ]
  },
  {
   "cell_type": "markdown",
   "metadata": {},
   "source": [
    "<p style=\"color: red;\">changing the default value of square_cal to false</p>"
   ]
  },
  {
   "cell_type": "code",
   "execution_count": 20,
   "metadata": {},
   "outputs": [
    {
     "name": "stdout",
     "output_type": "stream",
     "text": [
      "[1] \"output...\"\n",
      "[1] \".........\"\n"
     ]
    },
    {
     "data": {
      "text/html": [
       "9"
      ],
      "text/latex": [
       "9"
      ],
      "text/markdown": [
       "9"
      ],
      "text/plain": [
       "[1] 9"
      ]
     },
     "metadata": {},
     "output_type": "display_data"
    }
   ],
   "source": [
    "print(\"output...\")\n",
    "print(\".........\")\n",
    "\n",
    "x <- 3\n",
    "\n",
    "triple_square <- function(x, square_cal = TRUE){\n",
    "    if(square_cal){\n",
    "        return((3 * x)^2)\n",
    "    } else {\n",
    "        return(3 * x)\n",
    "    }\n",
    "}\n",
    "\n",
    "triple_square(x, square_cal = FALSE)"
   ]
  },
  {
   "cell_type": "markdown",
   "metadata": {},
   "source": [
    "<p style=\"color: red;\">another example</p>"
   ]
  },
  {
   "cell_type": "code",
   "execution_count": 21,
   "metadata": {},
   "outputs": [
    {
     "name": "stdout",
     "output_type": "stream",
     "text": [
      "[1] \"output...\"\n",
      "[1] \".........\"\n"
     ]
    },
    {
     "data": {
      "text/html": [
       "9"
      ],
      "text/latex": [
       "9"
      ],
      "text/markdown": [
       "9"
      ],
      "text/plain": [
       "[1] 9"
      ]
     },
     "metadata": {},
     "output_type": "display_data"
    }
   ],
   "source": [
    "print(\"output...\")\n",
    "print(\".........\")\n",
    "\n",
    "x <- 3\n",
    "\n",
    "raise_to <- function(x, times = 2){\n",
    "   return(x ** times)\n",
    "}\n",
    "\n",
    "raise_to(x)"
   ]
  },
  {
   "cell_type": "markdown",
   "metadata": {},
   "source": [
    "<p style=\"color: red;\">changing the default value of times</p>"
   ]
  },
  {
   "cell_type": "code",
   "execution_count": 22,
   "metadata": {},
   "outputs": [
    {
     "name": "stdout",
     "output_type": "stream",
     "text": [
      "[1] \"output...\"\n",
      "[1] \".........\"\n"
     ]
    },
    {
     "data": {
      "text/html": [
       "243"
      ],
      "text/latex": [
       "243"
      ],
      "text/markdown": [
       "243"
      ],
      "text/plain": [
       "[1] 243"
      ]
     },
     "metadata": {},
     "output_type": "display_data"
    }
   ],
   "source": [
    "print(\"output...\")\n",
    "print(\".........\")\n",
    "\n",
    "x <- 3\n",
    "\n",
    "raise_to <- function(x, times = 2){\n",
    "   return(x ** times)\n",
    "}\n",
    "\n",
    "raise_to(x, times = 5)"
   ]
  }
 ],
 "metadata": {
  "kernelspec": {
   "display_name": "R",
   "language": "R",
   "name": "ir"
  },
  "language_info": {
   "codemirror_mode": "r",
   "file_extension": ".r",
   "mimetype": "text/x-r-source",
   "name": "R",
   "pygments_lexer": "r",
   "version": "3.6.1"
  }
 },
 "nbformat": 4,
 "nbformat_minor": 4
}
