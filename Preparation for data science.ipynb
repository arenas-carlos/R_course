{
 "cells": [
  {
   "cell_type": "markdown",
   "id": "5f745fb7",
   "metadata": {},
   "source": [
    "<h1>Install anaconda</h1>"
   ]
  },
  {
   "cell_type": "markdown",
   "id": "49d71b08",
   "metadata": {},
   "source": [
    "<p>go to <a href=\"https://www.anaconda.com/\">anaconda.com</a> and download anaconda, if you run a windows machine you will use the anaconda prompt</p>"
   ]
  },
  {
   "cell_type": "markdown",
   "id": "2c9684a6",
   "metadata": {},
   "source": [
    "<h1>Install jupyter notes and R base into anaconda</h1>"
   ]
  },
  {
   "cell_type": "markdown",
   "id": "0a5b8fee",
   "metadata": {},
   "source": [
    "<p>You need to create a new environment and then you can install R 4.+ in Anaconda. Follow these steps.</p>\n",
    "<p>Open anaconda prompt</p>\n",
    "<pre><code>conda create --name r4-base</code></pre>\n",
    "<p>\n",
    "<img src=\"https://i.stack.imgur.com/R0T04.png\" alt=\"enter image description here\">\n",
    "</p>\n",
    "<p>After activating <code>r4-base</code> run these commands</p>\n",
    "<pre><code>\n",
    "conda activate r4-base\n",
    "conda install -c conda-forge r-base\n",
    "conda install -c conda-forge/label/gcc7 r-base\n",
    "</code></pre>\n",
    "<p>Finally, you will notice <code>r-basa</code> version 4 will be installed.</p>\n",
    "<p>\n",
    "<img src=\"https://i.stack.imgur.com/f7GU6.png\" alt=\"enter image description here\">\n",
    "</p>\n",
    "<p>Thereafter, you can install any supported packages. But with this only, you won't have the ability to use it in the Jupyter notebook. You need to install <code>install.packages('IRkernel')</code> and Jupyter notebook as well if you want to use it. Otherwise you are good to go with R-Studio.</p>\n",
    "<p>For Jupyter Installation and RKernel.</p>\n",
    "<pre><code>conda install jupyter\n",
    "</code></pre>\n",
    "<p>Then open the R console. Write in R console</p>\n",
    "<pre><code>install.packages('IRkernel')\n",
    "IRkernel::installspec()\n",
    "</code></pre>\n",
    "<p>Congrats! You can use Notebook for Python and R.</p>\n",
    "    </div>"
   ]
  }
 ],
 "metadata": {
  "kernelspec": {
   "display_name": "R",
   "language": "R",
   "name": "ir"
  },
  "language_info": {
   "codemirror_mode": "r",
   "file_extension": ".r",
   "mimetype": "text/x-r-source",
   "name": "R",
   "pygments_lexer": "r",
   "version": "4.1.0"
  }
 },
 "nbformat": 4,
 "nbformat_minor": 5
}
